{
 "cells": [
  {
   "cell_type": "code",
   "execution_count": 1,
   "metadata": {},
   "outputs": [],
   "source": [
    "import json\n",
    "import os\n",
    "from collections import defaultdict\n",
    "from PIL import Image, ImageDraw, ImageFont"
   ]
  },
  {
   "cell_type": "code",
   "execution_count": 2,
   "metadata": {},
   "outputs": [],
   "source": [
    "ASSET_DIR = 'data'\n",
    "SPRITE_MAP = os.path.join(ASSET_DIR, 'plays.json')\n",
    "SPRITE_SHEET = os.path.join(ASSET_DIR, 'plays.png')\n",
    "DEFAULT_WIDTH = 250\n",
    "DEFAULT_HEIGHT = 100\n",
    "DEFAULT_CANVAS_SIZE = (DEFAULT_WIDTH, DEFAULT_HEIGHT)\n",
    "BG_COLOR = (0, 0, 0)\n",
    "FONT_COLOR = (59, 201, 193)\n",
    "FONT_TYPE = os.path.join(ASSET_DIR, 'Ubuntu-R.ttf')\n",
    "FONT_SIZE = 42\n",
    "FONT_PADDING_HOR = 0\n",
    "FONT_PADDING_VERT = 20\n",
    "TEXT = 'vs'"
   ]
  },
  {
   "cell_type": "code",
   "execution_count": 3,
   "metadata": {},
   "outputs": [],
   "source": [
    "def load_map(file):\n",
    "    with open(file) as s_map:\n",
    "        data = json.loads(s_map.read())\n",
    "    return data['frames']"
   ]
  },
  {
   "cell_type": "code",
   "execution_count": 4,
   "metadata": {},
   "outputs": [],
   "source": [
    "frames = load_map(SPRITE_MAP)"
   ]
  },
  {
   "cell_type": "code",
   "execution_count": 5,
   "metadata": {},
   "outputs": [
    {
     "data": {
      "text/plain": [
       "15"
      ]
     },
     "execution_count": 5,
     "metadata": {},
     "output_type": "execute_result"
    }
   ],
   "source": [
    "len(frames)"
   ]
  },
  {
   "cell_type": "code",
   "execution_count": 6,
   "metadata": {},
   "outputs": [
    {
     "data": {
      "text/plain": [
       "{'filename': 'air.png',\n",
       " 'frame': {'x': 0, 'y': 0, 'w': 82, 'h': 82},\n",
       " 'rotated': False,\n",
       " 'trimmed': False,\n",
       " 'spriteSourceSize': {'x': 0, 'y': 0, 'w': 82, 'h': 82},\n",
       " 'sourceSize': {'w': 82, 'h': 82}}"
      ]
     },
     "execution_count": 6,
     "metadata": {},
     "output_type": "execute_result"
    }
   ],
   "source": [
    "frames[0]"
   ]
  },
  {
   "cell_type": "code",
   "execution_count": 7,
   "metadata": {},
   "outputs": [
    {
     "name": "stdout",
     "output_type": "stream",
     "text": [
      "       air: (0, 0, 82, 82)\n",
      "     devil: (82, 0, 164, 82)\n",
      "    dragon: (164, 0, 246, 82)\n",
      "      fire: (0, 82, 82, 164)\n",
      "       gun: (82, 82, 164, 164)\n",
      "     human: (164, 82, 246, 164)\n",
      " lightning: (0, 164, 82, 246)\n",
      "     paper: (82, 164, 164, 246)\n",
      "      rock: (164, 164, 246, 246)\n",
      "  scissors: (0, 246, 82, 328)\n",
      "     snake: (82, 246, 164, 328)\n",
      "    sponge: (164, 246, 246, 328)\n",
      "      tree: (0, 328, 82, 410)\n",
      "     water: (82, 328, 164, 410)\n",
      "      wolf: (164, 328, 246, 410)\n"
     ]
    }
   ],
   "source": [
    "plays = defaultdict(dict)\n",
    "for frame in frames:\n",
    "    filename = frame['filename'].split('.')[0]\n",
    "    x = frame['frame']['x']\n",
    "    y = frame['frame']['y']\n",
    "    w = frame['sourceSize']['w']\n",
    "    h = frame['sourceSize']['h']\n",
    "    plays[filename.title()] = (x, y, x+w, y+h)\n",
    "    print(f\"{filename:>10}: ({x}, {y}, {x+w}, {y+h})\")"
   ]
  },
  {
   "cell_type": "code",
   "execution_count": 8,
   "metadata": {},
   "outputs": [
    {
     "data": {
      "text/plain": [
       "(0, 0, 82, 82)"
      ]
     },
     "execution_count": 8,
     "metadata": {},
     "output_type": "execute_result"
    }
   ],
   "source": [
    "plays['Air']"
   ]
  },
  {
   "cell_type": "code",
   "execution_count": 9,
   "metadata": {},
   "outputs": [],
   "source": [
    "def get_sprite(roll):\n",
    "    region = plays[roll]\n",
    "    ss = Image.open(SPRITE_SHEET)\n",
    "    ss_width, ss_height = ss.size\n",
    "    sprite = ss.crop(region)\n",
    "    # sprite.show()\n",
    "    return sprite"
   ]
  },
  {
   "cell_type": "code",
   "execution_count": 10,
   "metadata": {},
   "outputs": [],
   "source": [
    "image = Image.new('RGB', DEFAULT_CANVAS_SIZE, BG_COLOR)\n",
    "img1 = get_sprite('Gun')\n",
    "img2 = get_sprite('Tree')\n",
    "img1_offset = (10, 10)\n",
    "img2_offset = (DEFAULT_WIDTH - 92, 10)\n",
    "\n",
    "image.paste(img1, img1_offset)\n",
    "image.paste(img2, img2_offset)\n",
    "\n",
    "draw = ImageDraw.Draw(image)\n",
    "font = ImageFont.truetype(FONT_TYPE, FONT_SIZE)\n",
    "text_offset = (107, FONT_PADDING_VERT, FONT_PADDING_HOR)\n",
    "draw.text(text_offset, TEXT, FONT_COLOR, font=font)\n",
    "image.show()"
   ]
  },
  {
   "cell_type": "code",
   "execution_count": null,
   "metadata": {},
   "outputs": [],
   "source": []
  }
 ],
 "metadata": {
  "kernelspec": {
   "display_name": "Python 3",
   "language": "python",
   "name": "python3"
  },
  "language_info": {
   "codemirror_mode": {
    "name": "ipython",
    "version": 3
   },
   "file_extension": ".py",
   "mimetype": "text/x-python",
   "name": "python",
   "nbconvert_exporter": "python",
   "pygments_lexer": "ipython3",
   "version": "3.6.6"
  }
 },
 "nbformat": 4,
 "nbformat_minor": 2
}
